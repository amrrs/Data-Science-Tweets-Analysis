{
  "cells": [
    {
      "metadata": {},
      "cell_type": "markdown",
      "source": "In this notebook we are going to measure the polarity scores (in terms of sentiment) of the tweets using the `Vader` library. "
    },
    {
      "metadata": {
        "trusted": true
      },
      "cell_type": "code",
      "source": "from nltk.sentiment.vader import SentimentIntensityAnalyzer",
      "execution_count": 2,
      "outputs": [
        {
          "output_type": "stream",
          "text": "/home/nbuser/anaconda3_501/lib/python3.6/site-packages/nltk/twitter/__init__.py:20: UserWarning: The twython library has not been installed. Some functionality from the twitter package will not be available.\n  warnings.warn(\"The twython library has not been installed. \"\n",
          "name": "stderr"
        }
      ]
    },
    {
      "metadata": {
        "trusted": true
      },
      "cell_type": "code",
      "source": "import nltk\nnltk.download('vader_lexicon')",
      "execution_count": 3,
      "outputs": [
        {
          "output_type": "stream",
          "text": "[nltk_data] Downloading package vader_lexicon to\n[nltk_data]     /home/nbuser/nltk_data...\n",
          "name": "stdout"
        },
        {
          "output_type": "execute_result",
          "execution_count": 3,
          "data": {
            "text/plain": "True"
          },
          "metadata": {}
        }
      ]
    },
    {
      "metadata": {
        "trusted": true
      },
      "cell_type": "code",
      "source": "import pandas as pd\n\ndata = pd.read_csv('data/tweets.csv')\ndata.head()",
      "execution_count": 5,
      "outputs": [
        {
          "output_type": "execute_result",
          "execution_count": 5,
          "data": {
            "text/html": "<div>\n<style scoped>\n    .dataframe tbody tr th:only-of-type {\n        vertical-align: middle;\n    }\n\n    .dataframe tbody tr th {\n        vertical-align: top;\n    }\n\n    .dataframe thead th {\n        text-align: right;\n    }\n</style>\n<table border=\"1\" class=\"dataframe\">\n  <thead>\n    <tr style=\"text-align: right;\">\n      <th></th>\n      <th>Tweets</th>\n    </tr>\n  </thead>\n  <tbody>\n    <tr>\n      <th>0</th>\n      <td>RT @DataFlairWS: 14 Most Used #DataScience Too...</td>\n    </tr>\n    <tr>\n      <th>1</th>\n      <td>RT @chi2innovations: Check out the Top #Data S...</td>\n    </tr>\n    <tr>\n      <th>2</th>\n      <td>RT @KirkDBorne: The 10 #DeepLearning Methods t...</td>\n    </tr>\n    <tr>\n      <th>3</th>\n      <td>RT @martinscerri: Top #DataScience Learning Re...</td>\n    </tr>\n    <tr>\n      <th>4</th>\n      <td>RT @wysetek: Global blog of the week - Datasci...</td>\n    </tr>\n  </tbody>\n</table>\n</div>",
            "text/plain": "                                              Tweets\n0  RT @DataFlairWS: 14 Most Used #DataScience Too...\n1  RT @chi2innovations: Check out the Top #Data S...\n2  RT @KirkDBorne: The 10 #DeepLearning Methods t...\n3  RT @martinscerri: Top #DataScience Learning Re...\n4  RT @wysetek: Global blog of the week - Datasci..."
          },
          "metadata": {}
        }
      ]
    },
    {
      "metadata": {
        "trusted": true
      },
      "cell_type": "code",
      "source": "# Append the polarity scores\nsid = SentimentIntensityAnalyzer()\n\nlisty = []\n\nfor index, row in data.iterrows():\n  ss = sid.polarity_scores(row[\"Tweets\"])\n  listy.append(ss)\n  \nse = pd.Series(listy)\ndata['polarity'] = se.values",
      "execution_count": null,
      "outputs": []
    },
    {
      "metadata": {
        "trusted": true,
        "scrolled": true
      },
      "cell_type": "code",
      "source": "data.head(10)",
      "execution_count": 62,
      "outputs": [
        {
          "output_type": "execute_result",
          "execution_count": 62,
          "data": {
            "text/html": "<div>\n<style scoped>\n    .dataframe tbody tr th:only-of-type {\n        vertical-align: middle;\n    }\n\n    .dataframe tbody tr th {\n        vertical-align: top;\n    }\n\n    .dataframe thead th {\n        text-align: right;\n    }\n</style>\n<table border=\"1\" class=\"dataframe\">\n  <thead>\n    <tr style=\"text-align: right;\">\n      <th></th>\n      <th>Tweets</th>\n      <th>polarity</th>\n    </tr>\n  </thead>\n  <tbody>\n    <tr>\n      <th>0</th>\n      <td>RT @DataFlairWS: 14 Most Used #DataScience Too...</td>\n      <td>{'neg': 0.0, 'neu': 1.0, 'pos': 0.0, 'compound...</td>\n    </tr>\n    <tr>\n      <th>1</th>\n      <td>RT @chi2innovations: Check out the Top #Data S...</td>\n      <td>{'neg': 0.0, 'neu': 0.878, 'pos': 0.122, 'comp...</td>\n    </tr>\n    <tr>\n      <th>2</th>\n      <td>RT @KirkDBorne: The 10 #DeepLearning Methods t...</td>\n      <td>{'neg': 0.0, 'neu': 1.0, 'pos': 0.0, 'compound...</td>\n    </tr>\n    <tr>\n      <th>3</th>\n      <td>RT @martinscerri: Top #DataScience Learning Re...</td>\n      <td>{'neg': 0.0, 'neu': 0.859, 'pos': 0.141, 'comp...</td>\n    </tr>\n    <tr>\n      <th>4</th>\n      <td>RT @wysetek: Global blog of the week - Datasci...</td>\n      <td>{'neg': 0.0, 'neu': 1.0, 'pos': 0.0, 'compound...</td>\n    </tr>\n    <tr>\n      <th>5</th>\n      <td>RT @chi2innovations: Check out the Top #Data S...</td>\n      <td>{'neg': 0.0, 'neu': 0.878, 'pos': 0.122, 'comp...</td>\n    </tr>\n    <tr>\n      <th>6</th>\n      <td>RT @DataFlairWS: 14 Most Used #DataScience Too...</td>\n      <td>{'neg': 0.0, 'neu': 1.0, 'pos': 0.0, 'compound...</td>\n    </tr>\n    <tr>\n      <th>7</th>\n      <td>RT @MaxCRoser: A new paper provides an overvie...</td>\n      <td>{'neg': 0.0, 'neu': 1.0, 'pos': 0.0, 'compound...</td>\n    </tr>\n    <tr>\n      <th>8</th>\n      <td>RT @TDHASSN: The project is part of a recent t...</td>\n      <td>{'neg': 0.0, 'neu': 1.0, 'pos': 0.0, 'compound...</td>\n    </tr>\n    <tr>\n      <th>9</th>\n      <td>Apply Data Science to Pre-owned Auto Markets -...</td>\n      <td>{'neg': 0.0, 'neu': 0.795, 'pos': 0.205, 'comp...</td>\n    </tr>\n  </tbody>\n</table>\n</div>",
            "text/plain": "                                              Tweets  \\\n0  RT @DataFlairWS: 14 Most Used #DataScience Too...   \n1  RT @chi2innovations: Check out the Top #Data S...   \n2  RT @KirkDBorne: The 10 #DeepLearning Methods t...   \n3  RT @martinscerri: Top #DataScience Learning Re...   \n4  RT @wysetek: Global blog of the week - Datasci...   \n5  RT @chi2innovations: Check out the Top #Data S...   \n6  RT @DataFlairWS: 14 Most Used #DataScience Too...   \n7  RT @MaxCRoser: A new paper provides an overvie...   \n8  RT @TDHASSN: The project is part of a recent t...   \n9  Apply Data Science to Pre-owned Auto Markets -...   \n\n                                            polarity  \n0  {'neg': 0.0, 'neu': 1.0, 'pos': 0.0, 'compound...  \n1  {'neg': 0.0, 'neu': 0.878, 'pos': 0.122, 'comp...  \n2  {'neg': 0.0, 'neu': 1.0, 'pos': 0.0, 'compound...  \n3  {'neg': 0.0, 'neu': 0.859, 'pos': 0.141, 'comp...  \n4  {'neg': 0.0, 'neu': 1.0, 'pos': 0.0, 'compound...  \n5  {'neg': 0.0, 'neu': 0.878, 'pos': 0.122, 'comp...  \n6  {'neg': 0.0, 'neu': 1.0, 'pos': 0.0, 'compound...  \n7  {'neg': 0.0, 'neu': 1.0, 'pos': 0.0, 'compound...  \n8  {'neg': 0.0, 'neu': 1.0, 'pos': 0.0, 'compound...  \n9  {'neg': 0.0, 'neu': 0.795, 'pos': 0.205, 'comp...  "
          },
          "metadata": {}
        }
      ]
    },
    {
      "metadata": {
        "trusted": true
      },
      "cell_type": "code",
      "source": "data['Sentiment_label'] = ''",
      "execution_count": 109,
      "outputs": []
    },
    {
      "metadata": {
        "trusted": true
      },
      "cell_type": "code",
      "source": "# Assign a sentiment label if the score crosses 0.5\nfor i in range(len(data)):\n    for sentiment in data.loc[i]['polarity'].keys():\n        if data.loc[i]['polarity'][sentiment] > 0.5:\n            data.loc[i]['Sentiment_label'] = sentiment",
      "execution_count": 113,
      "outputs": []
    },
    {
      "metadata": {
        "trusted": true
      },
      "cell_type": "code",
      "source": "data.loc[86]",
      "execution_count": 114,
      "outputs": [
        {
          "output_type": "execute_result",
          "execution_count": 114,
          "data": {
            "text/plain": "Tweets             Datatrained gives you Best Data Science Online...\npolarity           {'neg': 0.0, 'neu': 0.721, 'pos': 0.279, 'comp...\nSentiment_label                                             compound\nName: 86, dtype: object"
          },
          "metadata": {}
        }
      ]
    },
    {
      "metadata": {
        "trusted": true
      },
      "cell_type": "code",
      "source": "# Label count\nfrom collections import Counter\n\nlabel_counts = Counter(data['Sentiment_label'].values)\nlabel_counts.most_common()",
      "execution_count": 121,
      "outputs": [
        {
          "output_type": "execute_result",
          "execution_count": 121,
          "data": {
            "text/plain": "[('neu', 76), ('compound', 13)]"
          },
          "metadata": {}
        }
      ]
    }
  ],
  "metadata": {
    "kernelspec": {
      "name": "python36",
      "display_name": "Python 3.6",
      "language": "python"
    },
    "language_info": {
      "mimetype": "text/x-python",
      "nbconvert_exporter": "python",
      "name": "python",
      "pygments_lexer": "ipython3",
      "version": "3.6.6",
      "file_extension": ".py",
      "codemirror_mode": {
        "version": 3,
        "name": "ipython"
      }
    }
  },
  "nbformat": 4,
  "nbformat_minor": 2
}